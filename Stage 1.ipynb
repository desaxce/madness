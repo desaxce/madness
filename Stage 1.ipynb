{
 "cells": [
  {
   "cell_type": "code",
   "execution_count": 22,
   "metadata": {
    "jupyter": {
     "source_hidden": true
    }
   },
   "outputs": [],
   "source": [
    "# Add module import path to system path.\n",
    "import os\n",
    "import sys\n",
    "module_path = os.path.abspath(os.path.join('..'))\n",
    "if module_path not in sys.path:\n",
    "    sys.path.append(module_path)\n",
    "\n",
    "# Hot-loading modules before executing code: allows us to write code while testing it in this notebook.\n",
    "%reload_ext autoreload\n",
    "%autoreload 2"
   ]
  },
  {
   "cell_type": "code",
   "execution_count": 79,
   "metadata": {
    "jupyter": {
     "source_hidden": true
    }
   },
   "outputs": [],
   "source": [
    "import logging\n",
    "\n",
    "# Logging strategy for this notebook.\n",
    "root = logging.getLogger()\n",
    "root.setLevel(logging.WARN)\n",
    "\n",
    "if not root.hasHandlers():\n",
    "    handler = logging.StreamHandler(sys.stdout)\n",
    "    handler.setLevel(logging.WARN)\n",
    "\n",
    "    formatter = logging.Formatter('%(asctime)s - %(name)s - %(levelname)s - %(message)s')\n",
    "    handler.setFormatter(formatter)\n",
    "\n",
    "    root.addHandler(handler)"
   ]
  },
  {
   "cell_type": "code",
   "execution_count": 80,
   "metadata": {
    "jupyter": {
     "source_hidden": true
    }
   },
   "outputs": [],
   "source": [
    "from parser import Parser\n",
    "from span import Span\n",
    "\n",
    "parser = Parser()\n",
    "seasons, teams = parser.parse()"
   ]
  },
  {
   "cell_type": "code",
   "execution_count": 81,
   "metadata": {
    "jupyter": {
     "source_hidden": true
    }
   },
   "outputs": [
    {
     "data": {
      "application/vnd.jupyter.widget-view+json": {
       "model_id": "08f68e88184a456d88994b0cefe62533",
       "version_major": 2,
       "version_minor": 0
      },
      "text/plain": [
       "Dropdown(description='Select algo:', index=2, layout=Layout(width='310px'), options=(('Gradient Boosting Class…"
      ]
     },
     "metadata": {},
     "output_type": "display_data"
    },
    {
     "data": {
      "application/vnd.jupyter.widget-view+json": {
       "model_id": "bd6f1ab9276c4611a271b71b9b8c2dfb",
       "version_major": 2,
       "version_minor": 0
      },
      "text/plain": [
       "Dropdown(description='Train start:', layout=Layout(width='155px'), options=(1985, 1986, 1987, 1988, 1989, 1990…"
      ]
     },
     "metadata": {},
     "output_type": "display_data"
    },
    {
     "data": {
      "application/vnd.jupyter.widget-view+json": {
       "model_id": "dbdb9eeaf9e2487c91714fb8bf0047a8",
       "version_major": 2,
       "version_minor": 0
      },
      "text/plain": [
       "Dropdown(description='Train end:', index=29, layout=Layout(width='155px'), options=(1986, 1987, 1988, 1989, 19…"
      ]
     },
     "metadata": {},
     "output_type": "display_data"
    },
    {
     "data": {
      "application/vnd.jupyter.widget-view+json": {
       "model_id": "7d11d136716f454eb0de53326d0c02b2",
       "version_major": 2,
       "version_minor": 0
      },
      "text/plain": [
       "Dropdown(description='Test start:', index=31, layout=Layout(width='155px'), options=(1985, 1986, 1987, 1988, 1…"
      ]
     },
     "metadata": {},
     "output_type": "display_data"
    },
    {
     "data": {
      "application/vnd.jupyter.widget-view+json": {
       "model_id": "d1e10bea23bc4f34b041f9d14672853c",
       "version_major": 2,
       "version_minor": 0
      },
      "text/plain": [
       "Dropdown(description='Test end:', index=4, layout=Layout(width='155px'), options=(2017, 2018, 2019, 2020, 2021…"
      ]
     },
     "metadata": {},
     "output_type": "display_data"
    }
   ],
   "source": [
    "import ipywidgets as widgets\n",
    "from ipywidgets import Layout\n",
    "from IPython.display import display\n",
    "\n",
    "year_dd_layout=Layout(width= '155px')\n",
    "\n",
    "algorithm_dd = widgets.Dropdown(options = [(\"Gradient Boosting Classifier\", \"GB\"), (\"Logistic Regression\", \"LR\"), (\"Multi-Layer Perceptron Classifier\", \"MLP\")], value = \"MLP\", \n",
    "                                description = \"Select algo:\", \n",
    "                                layout=Layout(width='310px'))\n",
    "train_start_dd = widgets.Dropdown(options = seasons.keys(), description = \"Train start:\", value = 1985,\n",
    "                                  layout = year_dd_layout)\n",
    "train_end_dd = widgets.Dropdown(options = [year for year in seasons.keys() if year > train_start_dd.value], description = \"Train end:\", value = 2015,\n",
    "                                layout = year_dd_layout)\n",
    "\n",
    "test_start_dd = widgets.Dropdown(options = seasons.keys(), description = \"Test start:\", value = 2016,\n",
    "                                 layout = year_dd_layout)\n",
    "test_end_dd = widgets.Dropdown(options = [year for year in seasons.keys() if year > test_start_dd.value], description = \"Test end:\", value = 2021,\n",
    "                               layout = year_dd_layout)\n",
    "\n",
    "\n",
    "display(algorithm_dd)\n",
    "display(train_start_dd)\n",
    "display(train_end_dd)\n",
    "display(test_start_dd)\n",
    "display(test_end_dd)\n"
   ]
  },
  {
   "cell_type": "code",
   "execution_count": 84,
   "metadata": {
    "jupyter": {
     "source_hidden": true
    }
   },
   "outputs": [],
   "source": [
    "train_span, test_span = Span.create_spans(seasons, \n",
    "                                          train_start_dd.value, train_end_dd.value, \n",
    "                                          test_start_dd.value, test_end_dd.value, \n",
    "                                          algorithm_dd.value)\n",
    "\n",
    "# 50/50 predictions\n",
    "span_predictions = test_span.predict()\n",
    "\n",
    "# scores = Span.score(span_predictions)\n",
    "# assert scores['Average'] == 0.6931471805599453, f\"50/50 classifier should yield a 0.69314 score, but yielded {scores['Average']}\""
   ]
  },
  {
   "cell_type": "code",
   "execution_count": 87,
   "metadata": {
    "jupyter": {
     "source_hidden": true
    }
   },
   "outputs": [
    {
     "data": {
      "text/plain": [
       "dict_keys([2022])"
      ]
     },
     "execution_count": 87,
     "metadata": {},
     "output_type": "execute_result"
    }
   ],
   "source": [
    "def get_span_predictions(max_iter):\n",
    "    classifier = train_span.train(max_iter)\n",
    "    classifiers = test_span.build_seasons_classifiers_map(classifier)\n",
    "    span_predictions = test_span.predict(classifiers)\n",
    "    return span_predictions\n",
    "\n",
    "def get_scores(span_predictions):\n",
    "    scores = Span.score(span_predictions)\n",
    "    return scores\n",
    "\n",
    "def get_average_score(max_iter):\n",
    "    return get_scores(get_span_predictions(max_iter))['Average']\n",
    "\n",
    "span_predictions = get_span_predictions(10000)\n",
    "\n",
    "span_predictions.keys()\n",
    "# get_scores(span_predictions)"
   ]
  },
  {
   "cell_type": "code",
   "execution_count": 88,
   "metadata": {
    "jupyter": {
     "source_hidden": true
    }
   },
   "outputs": [],
   "source": [
    "lines = [\"ID,Pred\"]\n",
    "\n",
    "for year in range(2022, 2023):\n",
    "    if year != 2020:\n",
    "        for prediction in span_predictions[year]:\n",
    "            lines.append(f\"{year}_{prediction.team_1_id}_{prediction.team_2_id},{prediction.win_p}\")\n",
    "            \n",
    "with open('submission.csv', 'w') as f:\n",
    "    for line in lines:\n",
    "        f.write(line)\n",
    "        f.write('\\n')"
   ]
  },
  {
   "cell_type": "code",
   "execution_count": 91,
   "metadata": {
    "jupyter": {
     "source_hidden": true
    }
   },
   "outputs": [],
   "source": [
    "seeds = seasons[2022].tournament.seeds"
   ]
  },
  {
   "cell_type": "code",
   "execution_count": 105,
   "metadata": {
    "jupyter": {
     "source_hidden": true
    }
   },
   "outputs": [],
   "source": [
    "def get_seeds_for_region(region):\n",
    "    return [seed for seed in seeds.values() if seed.region == region]"
   ]
  },
  {
   "cell_type": "code",
   "execution_count": 106,
   "metadata": {},
   "outputs": [],
   "source": [
    "seeds_w = get_seeds_for_region(\"W\")\n",
    "seeds_x = get_seeds_for_region(\"X\")\n",
    "seeds_y = get_seeds_for_region(\"Y\")\n",
    "seeds_z = get_seeds_for_region(\"Z\")"
   ]
  },
  {
   "cell_type": "code",
   "execution_count": 108,
   "metadata": {},
   "outputs": [],
   "source": [
    "seeds_w.sort(key=lambda x: x.position)\n"
   ]
  },
  {
   "cell_type": "code",
   "execution_count": 99,
   "metadata": {},
   "outputs": [
    {
     "data": {
      "text/plain": [
       "17"
      ]
     },
     "execution_count": 99,
     "metadata": {},
     "output_type": "execute_result"
    }
   ],
   "source": [
    "len(teams_x)"
   ]
  },
  {
   "cell_type": "code",
   "execution_count": 100,
   "metadata": {},
   "outputs": [
    {
     "data": {
      "text/plain": [
       "17"
      ]
     },
     "execution_count": 100,
     "metadata": {},
     "output_type": "execute_result"
    }
   ],
   "source": [
    "len(teams_y)"
   ]
  },
  {
   "cell_type": "code",
   "execution_count": 101,
   "metadata": {},
   "outputs": [
    {
     "data": {
      "text/plain": [
       "17"
      ]
     },
     "execution_count": 101,
     "metadata": {},
     "output_type": "execute_result"
    }
   ],
   "source": [
    "len(teams_z)"
   ]
  },
  {
   "cell_type": "code",
   "execution_count": 102,
   "metadata": {},
   "outputs": [
    {
     "data": {
      "text/plain": [
       "68"
      ]
     },
     "execution_count": 102,
     "metadata": {},
     "output_type": "execute_result"
    }
   ],
   "source": [
    "17*4"
   ]
  },
  {
   "cell_type": "code",
   "execution_count": 104,
   "metadata": {},
   "outputs": [
    {
     "data": {
      "text/plain": [
       "68"
      ]
     },
     "execution_count": 104,
     "metadata": {},
     "output_type": "execute_result"
    }
   ],
   "source": [
    "len(seeds.keys())"
   ]
  },
  {
   "cell_type": "code",
   "execution_count": null,
   "metadata": {},
   "outputs": [],
   "source": []
  }
 ],
 "metadata": {
  "kernelspec": {
   "display_name": "Python 3",
   "language": "python",
   "name": "python3"
  },
  "language_info": {
   "codemirror_mode": {
    "name": "ipython",
    "version": 3
   },
   "file_extension": ".py",
   "mimetype": "text/x-python",
   "name": "python",
   "nbconvert_exporter": "python",
   "pygments_lexer": "ipython3",
   "version": "3.8.5"
  }
 },
 "nbformat": 4,
 "nbformat_minor": 4
}
