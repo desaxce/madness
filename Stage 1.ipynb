{
 "cells": [
  {
   "cell_type": "code",
   "execution_count": 103,
   "metadata": {},
   "outputs": [
    {
     "name": "stdout",
     "output_type": "stream",
     "text": [
      "The autoreload extension is already loaded. To reload it, use:\n",
      "  %reload_ext autoreload\n"
     ]
    }
   ],
   "source": [
    "# Add module import path to system path.\n",
    "import os\n",
    "import sys\n",
    "module_path = os.path.abspath(os.path.join('..'))\n",
    "if module_path not in sys.path:\n",
    "    sys.path.append(module_path)\n",
    "\n",
    "# Hot-loading modules before executing code: allows us to write code while testing it in this notebook.\n",
    "%load_ext autoreload\n",
    "%autoreload 2"
   ]
  },
  {
   "cell_type": "code",
   "execution_count": 104,
   "metadata": {},
   "outputs": [],
   "source": [
    "import logging\n",
    "\n",
    "# Logging strategy for this notebook.\n",
    "root = logging.getLogger()\n",
    "root.setLevel(logging.INFO)\n",
    "\n",
    "if not root.hasHandlers():\n",
    "    handler = logging.StreamHandler(sys.stdout)\n",
    "    handler.setLevel(logging.INFO)\n",
    "\n",
    "    formatter = logging.Formatter('%(asctime)s - %(name)s - %(levelname)s - %(message)s')\n",
    "    handler.setFormatter(formatter)\n",
    "\n",
    "    root.addHandler(handler)"
   ]
  },
  {
   "cell_type": "code",
   "execution_count": 108,
   "metadata": {},
   "outputs": [
    {
     "name": "stdout",
     "output_type": "stream",
     "text": [
      "2022-03-14 10:11:17,575 - parser - INFO - Column names are TeamID, TeamName, FirstD1Season, LastD1Season\n",
      "2022-03-14 10:11:17,576 - parser - INFO - Processed 372 teams.\n",
      "2022-03-14 10:11:17,577 - parser - INFO - Column names are Season, DayNum, WTeamID, WScore, LTeamID, LScore, WLoc, NumOT\n",
      "2022-03-14 10:11:18,067 - parser - INFO - Processed 174471 games.\n",
      "2022-03-14 10:11:18,068 - parser - INFO - Column names are Season, DayNum, WTeamID, WScore, LTeamID, LScore, WLoc, NumOT\n",
      "2022-03-14 10:11:18,075 - parser - INFO - Processed 2317 games.\n",
      "2022-03-14 10:11:18,077 - parser - INFO - Column names are Season, Seed, TeamID\n",
      "2022-03-14 10:11:18,081 - parser - INFO - Processed 2354 seeds.\n",
      "2022-03-14 10:11:18,083 - parser - INFO - Column names are Season, RankingDayNum, SystemName, TeamID, OrdinalRank\n",
      "2022-03-14 10:11:22,865 - parser - INFO - Processed 4521720 ranking rows.\n",
      "2022-03-14 10:11:22,866 - parser - INFO - Column names are Season, DayZero, RegionW, RegionX, RegionY, RegionZ\n",
      "2022-03-14 10:11:23,029 - parser - INFO - Processed 38 seasons.\n"
     ]
    }
   ],
   "source": [
    "from parser import Parser\n",
    "from span import Span\n",
    "\n",
    "parser = Parser()\n",
    "seasons, teams = parser.parse()\n",
    "\n",
    "train_seasons = []\n",
    "for year in range(1985, 2016):\n",
    "    train_seasons.append(seasons[year])\n",
    "train_span = Span(train_seasons, classifier_type=\"MLP\")\n",
    "\n",
    "test_seasons = []\n",
    "for year in range(2016, 2022):\n",
    "    if year != 2020:\n",
    "        test_seasons.append(seasons[year])\n",
    "test_span = Span(test_seasons)"
   ]
  },
  {
   "cell_type": "code",
   "execution_count": 109,
   "metadata": {},
   "outputs": [],
   "source": [
    "# 50/50 predictions\n",
    "span_predictions = test_span.predict()\n",
    "\n",
    "scores = Span.score(span_predictions)\n",
    "assert scores['Average'] == 0.6931471805599453, f\"50/50 classifier should yield a 0.69314 score, but yielded {scores['Average']}\""
   ]
  },
  {
   "cell_type": "code",
   "execution_count": 102,
   "metadata": {},
   "outputs": [
    {
     "data": {
      "text/plain": [
       "{2016: 0.5743177992752647,\n",
       " 2017: 0.5276268202909352,\n",
       " 2018: 0.6215496643397742,\n",
       " 2019: 0.5033544525544482,\n",
       " 2021: 0.6197598057056414,\n",
       " 'Average': 0.5693217084332127}"
      ]
     },
     "execution_count": 102,
     "metadata": {},
     "output_type": "execute_result"
    }
   ],
   "source": [
    "def get_span_predictions(max_iter):\n",
    "    classifier = train_span.train(max_iter)\n",
    "    classifiers = test_span.build_seasons_classifiers_map(classifier)\n",
    "    span_predictions = test_span.predict(classifiers)\n",
    "    return span_predictions\n",
    "\n",
    "def get_scores(span_predictions):\n",
    "    scores = Span.score(span_predictions)\n",
    "    return scores\n",
    "\n",
    "def get_average_score(max_iter):\n",
    "    return get_scores(max_iter)['Average']\n",
    "\n",
    "span_predictions = get_span_predictions(50000)\n",
    "\n",
    "get_scores(span_predictions)"
   ]
  },
  {
   "cell_type": "code",
   "execution_count": 63,
   "metadata": {},
   "outputs": [],
   "source": [
    "system_names = ['COL', 'DOL', 'MOR', 'POM', 'SAG', 'WLK']\n",
    "n = 100\n",
    "max_iter = 50000\n",
    "\n",
    "def get_system_score():\n",
    "    total = 0\n",
    "    for i in range(n):\n",
    "        total += get_average_score(max_iter)\n",
    "    total = total / n\n",
    "    return total\n"
   ]
  },
  {
   "cell_type": "code",
   "execution_count": 8,
   "metadata": {},
   "outputs": [
    {
     "data": {
      "text/plain": [
       "0.6103558013513964"
      ]
     },
     "execution_count": 8,
     "metadata": {},
     "output_type": "execute_result"
    }
   ],
   "source": [
    "# COL\n",
    "get_system_score()"
   ]
  },
  {
   "cell_type": "code",
   "execution_count": 9,
   "metadata": {},
   "outputs": [
    {
     "data": {
      "text/plain": [
       "0.5847185901459864"
      ]
     },
     "execution_count": 9,
     "metadata": {},
     "output_type": "execute_result"
    }
   ],
   "source": [
    "# DOL\n",
    "get_system_score()"
   ]
  },
  {
   "cell_type": "code",
   "execution_count": 10,
   "metadata": {},
   "outputs": [
    {
     "data": {
      "text/plain": [
       "0.5693132996313941"
      ]
     },
     "execution_count": 10,
     "metadata": {},
     "output_type": "execute_result"
    }
   ],
   "source": [
    "# MOR\n",
    "# 0.5480336305395394 without 2021\n",
    "get_system_score()"
   ]
  },
  {
   "cell_type": "code",
   "execution_count": 11,
   "metadata": {},
   "outputs": [
    {
     "data": {
      "text/plain": [
       "0.5739430038960476"
      ]
     },
     "execution_count": 11,
     "metadata": {},
     "output_type": "execute_result"
    }
   ],
   "source": [
    "# POM\n",
    "get_system_score()"
   ]
  },
  {
   "cell_type": "code",
   "execution_count": 12,
   "metadata": {},
   "outputs": [
    {
     "data": {
      "text/plain": [
       "0.5778776467600932"
      ]
     },
     "execution_count": 12,
     "metadata": {},
     "output_type": "execute_result"
    }
   ],
   "source": [
    "# SAG\n",
    "# 0.5529249194596761 without 2021\n",
    "get_system_score()"
   ]
  },
  {
   "cell_type": "code",
   "execution_count": 499,
   "metadata": {},
   "outputs": [
    {
     "data": {
      "text/plain": [
       "0.5648090590121495"
      ]
     },
     "execution_count": 499,
     "metadata": {},
     "output_type": "execute_result"
    }
   ],
   "source": [
    "# WLK\n",
    "get_system_score()"
   ]
  },
  {
   "cell_type": "code",
   "execution_count": null,
   "metadata": {},
   "outputs": [],
   "source": []
  },
  {
   "cell_type": "code",
   "execution_count": 23,
   "metadata": {},
   "outputs": [
    {
     "data": {
      "image/png": "[encoded data removed]",
      "text/plain": [
       "<Figure size 432x288 with 1 Axes>"
      ]
     },
     "metadata": {
      "needs_background": "light"
     },
     "output_type": "display_data"
    }
   ],
   "source": [
    "import numpy as np\n",
    "from matplotlib import pyplot as plt\n",
    "\n",
    "d = {}\n",
    "for x in range(5000, 100000, 5000):\n",
    "    d[x] = get_average_score(x)\n",
    "\n",
    "\n",
    "lists = sorted(d.items()) # sorted by key, return a list of tuples\n",
    "\n",
    "x, y = zip(*lists) # unpack a list of pairs into two tuples\n",
    "\n",
    "plt.plot(x, y)\n",
    "plt.show()"
   ]
  },
  {
   "cell_type": "code",
   "execution_count": 343,
   "metadata": {},
   "outputs": [],
   "source": [
    "# Build UI that lets you pick the features to use. "
   ]
  },
  {
   "cell_type": "code",
   "execution_count": 405,
   "metadata": {},
   "outputs": [],
   "source": [
    "# 3 point PCT\n",
    "# Look at coaches\n"
   ]
  },
  {
   "cell_type": "code",
   "execution_count": 422,
   "metadata": {},
   "outputs": [
    {
     "data": {
      "text/plain": [
       "{'AP', 'COL', 'DOL', 'MOR', 'POM', 'SAG', 'USA', 'WLK'}"
      ]
     },
     "execution_count": 422,
     "metadata": {},
     "output_type": "execute_result"
    }
   ],
   "source": [
    "keys = seasons[2003].tournament.rankings.keys()\n",
    "for year in range(2004, 2022):\n",
    "    if year != 2020:\n",
    "        keys = keys & seasons[year].tournament.rankings.keys()\n",
    "keys"
   ]
  },
  {
   "cell_type": "code",
   "execution_count": 410,
   "metadata": {},
   "outputs": [
    {
     "data": {
      "text/plain": [
       "{2}"
      ]
     },
     "execution_count": 410,
     "metadata": {},
     "output_type": "execute_result"
    }
   ],
   "source": [
    "{1, 2} & {2, 3}"
   ]
  },
  {
   "cell_type": "code",
   "execution_count": 481,
   "metadata": {},
   "outputs": [
    {
     "data": {
      "text/plain": [
       "351"
      ]
     },
     "execution_count": 481,
     "metadata": {},
     "output_type": "execute_result"
    }
   ],
   "source": [
    "len(seasons[2016].tournament.rankings[\"POM\"])"
   ]
  },
  {
   "cell_type": "code",
   "execution_count": 90,
   "metadata": {},
   "outputs": [],
   "source": [
    "lines = [\"ID,Pred\"]\n",
    "\n",
    "for year in range(2016, 2022):\n",
    "    if year != 2020:\n",
    "        for prediction in span_predictions[year]:\n",
    "            lines.append(f\"{year}_{prediction.team_1_id}_{prediction.team_2_id},{prediction.win_p}\")\n",
    "            \n",
    "with open('submission.csv', 'w') as f:\n",
    "    for line in lines:\n",
    "        f.write(line)\n",
    "        f.write('\\n')"
   ]
  },
  {
   "cell_type": "code",
   "execution_count": null,
   "metadata": {},
   "outputs": [],
   "source": []
  }
 ],
 "metadata": {
  "kernelspec": {
   "display_name": "Python 3",
   "language": "python",
   "name": "python3"
  },
  "language_info": {
   "codemirror_mode": {
    "name": "ipython",
    "version": 3
   },
   "file_extension": ".py",
   "mimetype": "text/x-python",
   "name": "python",
   "nbconvert_exporter": "python",
   "pygments_lexer": "ipython3",
   "version": "3.8.5"
  }
 },
 "nbformat": 4,
 "nbformat_minor": 4
}
