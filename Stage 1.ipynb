{
 "cells": [
  {
   "cell_type": "code",
   "execution_count": 134,
   "metadata": {},
   "outputs": [
    {
     "name": "stdout",
     "output_type": "stream",
     "text": [
      "The autoreload extension is already loaded. To reload it, use:\n",
      "  %reload_ext autoreload\n"
     ]
    }
   ],
   "source": [
    "# Add module import path to system path.\n",
    "import os\n",
    "import sys\n",
    "module_path = os.path.abspath(os.path.join('..'))\n",
    "if module_path not in sys.path:\n",
    "    sys.path.append(module_path)\n",
    "\n",
    "# Hot-loading modules before executing code: allows us to write code while testing it in this notebook.\n",
    "%load_ext autoreload\n",
    "%autoreload 2"
   ]
  },
  {
   "cell_type": "code",
   "execution_count": 135,
   "metadata": {},
   "outputs": [],
   "source": [
    "import logging\n",
    "\n",
    "# Logging strategy for this notebook.\n",
    "root = logging.getLogger()\n",
    "root.setLevel(logging.INFO)\n",
    "\n",
    "if not root.hasHandlers():\n",
    "    handler = logging.StreamHandler(sys.stdout)\n",
    "    handler.setLevel(logging.INFO)\n",
    "\n",
    "    formatter = logging.Formatter('%(asctime)s - %(name)s - %(levelname)s - %(message)s')\n",
    "    handler.setFormatter(formatter)\n",
    "\n",
    "    root.addHandler(handler)"
   ]
  },
  {
   "cell_type": "code",
   "execution_count": 136,
   "metadata": {},
   "outputs": [],
   "source": [
    "from parser import Parser\n",
    "\n",
    "parser = Parser()"
   ]
  },
  {
   "cell_type": "code",
   "execution_count": 137,
   "metadata": {},
   "outputs": [
    {
     "name": "stdout",
     "output_type": "stream",
     "text": [
      "2022-03-10 18:38:57,004 - parser - INFO - Column names are TeamID, TeamName, FirstD1Season, LastD1Season\n",
      "2022-03-10 18:38:57,006 - parser - INFO - Processed 372 teams.\n"
     ]
    }
   ],
   "source": [
    "teams = parser.parse_teams()"
   ]
  },
  {
   "cell_type": "code",
   "execution_count": 138,
   "metadata": {},
   "outputs": [
    {
     "name": "stdout",
     "output_type": "stream",
     "text": [
      "2022-03-10 18:38:57,464 - parser - INFO - Column names are TeamID, TeamName, FirstD1Season, LastD1Season\n",
      "2022-03-10 18:38:57,466 - parser - INFO - Processed 372 teams.\n",
      "2022-03-10 18:38:57,467 - parser - INFO - Column names are Season, DayNum, WTeamID, WScore, LTeamID, LScore, WLoc, NumOT\n",
      "2022-03-10 18:38:57,987 - parser - INFO - Processed 174471 games.\n",
      "2022-03-10 18:38:57,988 - parser - INFO - Column names are Season, DayNum, WTeamID, WScore, LTeamID, LScore, WLoc, NumOT\n",
      "2022-03-10 18:38:57,994 - parser - INFO - Processed 2317 games.\n",
      "2022-03-10 18:38:57,995 - parser - INFO - Column names are Season, DayZero, RegionW, RegionX, RegionY, RegionZ\n",
      "2022-03-10 18:38:57,999 - parser - INFO - Processed 38 seasons.\n"
     ]
    }
   ],
   "source": [
    "seasons, teams = parser.parse()"
   ]
  },
  {
   "cell_type": "code",
   "execution_count": 139,
   "metadata": {},
   "outputs": [],
   "source": [
    "train_seasons = []\n",
    "for year in range(1985, 2016):\n",
    "    train_seasons.append(seasons[year])\n",
    "\n",
    "test_seasons = []\n",
    "for year in range(2016, 2020):\n",
    "    test_seasons.append(seasons[year])"
   ]
  },
  {
   "cell_type": "code",
   "execution_count": 140,
   "metadata": {},
   "outputs": [],
   "source": [
    "from season import Span\n",
    "\n",
    "train_span = Span(train_seasons)\n",
    "test_span = Span(test_seasons)"
   ]
  },
  {
   "cell_type": "code",
   "execution_count": 141,
   "metadata": {},
   "outputs": [],
   "source": [
    "classifier = train_span.train()"
   ]
  },
  {
   "cell_type": "code",
   "execution_count": 147,
   "metadata": {},
   "outputs": [],
   "source": [
    "from prediction import FiftyFiftyClassifier\n",
    "\n",
    "span_predictions = test_span.predict(classifier)"
   ]
  },
  {
   "cell_type": "code",
   "execution_count": 148,
   "metadata": {},
   "outputs": [],
   "source": [
    "# Build UI that lets you pick the features to use. \n",
    "\n",
    "# Train n times and give average score + min/max score per year and total over the span of years used for validating."
   ]
  },
  {
   "cell_type": "code",
   "execution_count": 149,
   "metadata": {},
   "outputs": [
    {
     "data": {
      "text/plain": [
       "{2016: 0.69122351722072,\n",
       " 2017: 0.6930358246850573,\n",
       " 2018: 0.6921296709528887,\n",
       " 2019: 0.69122351722072,\n",
       " -1: 0.6919031325198465}"
      ]
     },
     "execution_count": 149,
     "metadata": {},
     "output_type": "execute_result"
    }
   ],
   "source": [
    "Span.score(span_predictions)"
   ]
  },
  {
   "cell_type": "code",
   "execution_count": null,
   "metadata": {},
   "outputs": [],
   "source": []
  }
 ],
 "metadata": {
  "kernelspec": {
   "display_name": "Python 3",
   "language": "python",
   "name": "python3"
  },
  "language_info": {
   "codemirror_mode": {
    "name": "ipython",
    "version": 3
   },
   "file_extension": ".py",
   "mimetype": "text/x-python",
   "name": "python",
   "nbconvert_exporter": "python",
   "pygments_lexer": "ipython3",
   "version": "3.8.5"
  }
 },
 "nbformat": 4,
 "nbformat_minor": 4
}
