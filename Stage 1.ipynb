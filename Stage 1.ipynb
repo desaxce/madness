{
 "cells": [
  {
   "cell_type": "code",
   "execution_count": 482,
   "metadata": {},
   "outputs": [
    {
     "name": "stdout",
     "output_type": "stream",
     "text": [
      "The autoreload extension is already loaded. To reload it, use:\n",
      "  %reload_ext autoreload\n"
     ]
    }
   ],
   "source": [
    "# Add module import path to system path.\n",
    "import os\n",
    "import sys\n",
    "module_path = os.path.abspath(os.path.join('..'))\n",
    "if module_path not in sys.path:\n",
    "    sys.path.append(module_path)\n",
    "\n",
    "# Hot-loading modules before executing code: allows us to write code while testing it in this notebook.\n",
    "%load_ext autoreload\n",
    "%autoreload 2"
   ]
  },
  {
   "cell_type": "code",
   "execution_count": 483,
   "metadata": {},
   "outputs": [],
   "source": [
    "import logging\n",
    "\n",
    "# Logging strategy for this notebook.\n",
    "root = logging.getLogger()\n",
    "root.setLevel(logging.INFO)\n",
    "\n",
    "if not root.hasHandlers():\n",
    "    handler = logging.StreamHandler(sys.stdout)\n",
    "    handler.setLevel(logging.INFO)\n",
    "\n",
    "    formatter = logging.Formatter('%(asctime)s - %(name)s - %(levelname)s - %(message)s')\n",
    "    handler.setFormatter(formatter)\n",
    "\n",
    "    root.addHandler(handler)"
   ]
  },
  {
   "cell_type": "code",
   "execution_count": 484,
   "metadata": {},
   "outputs": [
    {
     "name": "stdout",
     "output_type": "stream",
     "text": [
      "2022-03-13 16:16:09,415 - parser - INFO - Column names are TeamID, TeamName, FirstD1Season, LastD1Season\n",
      "2022-03-13 16:16:09,417 - parser - INFO - Processed 372 teams.\n",
      "2022-03-13 16:16:09,418 - parser - INFO - Column names are Season, DayNum, WTeamID, WScore, LTeamID, LScore, WLoc, NumOT\n",
      "2022-03-13 16:16:10,006 - parser - INFO - Processed 174471 games.\n",
      "2022-03-13 16:16:10,008 - parser - INFO - Column names are Season, DayNum, WTeamID, WScore, LTeamID, LScore, WLoc, NumOT\n",
      "2022-03-13 16:16:10,015 - parser - INFO - Processed 2317 games.\n",
      "2022-03-13 16:16:10,017 - parser - INFO - Column names are Season, Seed, TeamID\n",
      "2022-03-13 16:16:10,022 - parser - INFO - Processed 2354 seeds.\n",
      "2022-03-13 16:16:10,024 - parser - INFO - Column names are Season, RankingDayNum, SystemName, TeamID, OrdinalRank\n",
      "2022-03-13 16:16:14,746 - parser - INFO - Processed 4521720 ranking rows.\n",
      "2022-03-13 16:16:14,747 - parser - INFO - Column names are Season, DayZero, RegionW, RegionX, RegionY, RegionZ\n",
      "2022-03-13 16:16:14,951 - parser - INFO - Processed 38 seasons.\n"
     ]
    }
   ],
   "source": [
    "from parser import Parser\n",
    "from span import Span\n",
    "\n",
    "parser = Parser()\n",
    "seasons, teams = parser.parse()\n",
    "\n",
    "train_seasons = []\n",
    "for year in range(1985, 2016):\n",
    "    train_seasons.append(seasons[year])\n",
    "train_span = Span(train_seasons)\n",
    "\n",
    "test_seasons = []\n",
    "for year in range(2016, 2020):\n",
    "    test_seasons.append(seasons[year])\n",
    "test_span = Span(test_seasons)"
   ]
  },
  {
   "cell_type": "code",
   "execution_count": 485,
   "metadata": {},
   "outputs": [],
   "source": [
    "# 50/50 predictions\n",
    "span_predictions = test_span.predict()\n",
    "\n",
    "scores = Span.score(span_predictions)\n",
    "assert scores['Average'] == 0.6931471805599453, f\"50/50 classifier should yield a 0.69314 score, but yielded {scores['Average']}\""
   ]
  },
  {
   "cell_type": "code",
   "execution_count": 512,
   "metadata": {},
   "outputs": [
    {
     "data": {
      "text/plain": [
       "0.5442426350290931"
      ]
     },
     "execution_count": 512,
     "metadata": {},
     "output_type": "execute_result"
    }
   ],
   "source": [
    "def get_scores(max_iter):\n",
    "    classifier = train_span.train(max_iter)\n",
    "    classifiers = test_span.build_seasons_classifiers_map(classifier)\n",
    "    span_predictions = test_span.predict(classifiers)\n",
    "    scores = Span.score(span_predictions)\n",
    "    return scores\n",
    "\n",
    "def get_average_score(max_iter):\n",
    "    return get_scores(max_iter)['Average']\n",
    "\n",
    "get_average_score(50000)"
   ]
  },
  {
   "cell_type": "code",
   "execution_count": 501,
   "metadata": {},
   "outputs": [],
   "source": [
    "system_names = ['COL', 'DOL', 'MOR', 'POM', 'SAG', 'WLK']\n",
    "n = 100\n",
    "max_iter = 50000\n",
    "\n",
    "def get_system_score():\n",
    "    total = 0\n",
    "    for i in range(n):\n",
    "        total += get_average_score(max_iter)\n",
    "    total = total / n\n",
    "    return total\n"
   ]
  },
  {
   "cell_type": "code",
   "execution_count": 500,
   "metadata": {},
   "outputs": [
    {
     "data": {
      "text/plain": [
       "0.5756277854419233"
      ]
     },
     "execution_count": 500,
     "metadata": {},
     "output_type": "execute_result"
    }
   ],
   "source": [
    "# COL\n",
    "get_system_score()"
   ]
  },
  {
   "cell_type": "code",
   "execution_count": 495,
   "metadata": {},
   "outputs": [
    {
     "data": {
      "text/plain": [
       "0.5582211667529521"
      ]
     },
     "execution_count": 495,
     "metadata": {},
     "output_type": "execute_result"
    }
   ],
   "source": [
    "# DOL\n",
    "get_system_score()"
   ]
  },
  {
   "cell_type": "code",
   "execution_count": 504,
   "metadata": {},
   "outputs": [
    {
     "data": {
      "text/plain": [
       "0.5501584826956237"
      ]
     },
     "execution_count": 504,
     "metadata": {},
     "output_type": "execute_result"
    }
   ],
   "source": [
    "# MOR\n",
    "# 0.5480336305395394\n",
    "get_system_score()"
   ]
  },
  {
   "cell_type": "code",
   "execution_count": 497,
   "metadata": {},
   "outputs": [
    {
     "data": {
      "text/plain": [
       "0.5542452206354911"
      ]
     },
     "execution_count": 497,
     "metadata": {},
     "output_type": "execute_result"
    }
   ],
   "source": [
    "# POM\n",
    "get_system_score()"
   ]
  },
  {
   "cell_type": "code",
   "execution_count": 503,
   "metadata": {},
   "outputs": [
    {
     "data": {
      "text/plain": [
       "0.5529249194596761"
      ]
     },
     "execution_count": 503,
     "metadata": {},
     "output_type": "execute_result"
    }
   ],
   "source": [
    "# SAG\n",
    "# 0.5529249194596761\n",
    "get_system_score()"
   ]
  },
  {
   "cell_type": "code",
   "execution_count": 499,
   "metadata": {},
   "outputs": [
    {
     "data": {
      "text/plain": [
       "0.5648090590121495"
      ]
     },
     "execution_count": 499,
     "metadata": {},
     "output_type": "execute_result"
    }
   ],
   "source": [
    "# WLK\n",
    "get_system_score()"
   ]
  },
  {
   "cell_type": "code",
   "execution_count": null,
   "metadata": {},
   "outputs": [],
   "source": []
  },
  {
   "cell_type": "code",
   "execution_count": 393,
   "metadata": {},
   "outputs": [
    {
     "data": {
      "image/png": "[encoded data removed]",
      "text/plain": [
       "<Figure size 432x288 with 1 Axes>"
      ]
     },
     "metadata": {
      "needs_background": "light"
     },
     "output_type": "display_data"
    }
   ],
   "source": [
    "import numpy as np\n",
    "from matplotlib import pyplot as plt\n",
    "\n",
    "d = {}\n",
    "for x in range(5000, 100000, 5000):\n",
    "    d[x] = get_average_score(x)\n",
    "\n",
    "\n",
    "lists = sorted(d.items()) # sorted by key, return a list of tuples\n",
    "\n",
    "x, y = zip(*lists) # unpack a list of pairs into two tuples\n",
    "\n",
    "plt.plot(x, y)\n",
    "plt.show()"
   ]
  },
  {
   "cell_type": "code",
   "execution_count": 343,
   "metadata": {},
   "outputs": [],
   "source": [
    "# Build UI that lets you pick the features to use. "
   ]
  },
  {
   "cell_type": "code",
   "execution_count": 405,
   "metadata": {},
   "outputs": [],
   "source": [
    "# 3 point PCT\n",
    "# Look at coaches\n"
   ]
  },
  {
   "cell_type": "code",
   "execution_count": 422,
   "metadata": {},
   "outputs": [
    {
     "data": {
      "text/plain": [
       "{'AP', 'COL', 'DOL', 'MOR', 'POM', 'SAG', 'USA', 'WLK'}"
      ]
     },
     "execution_count": 422,
     "metadata": {},
     "output_type": "execute_result"
    }
   ],
   "source": [
    "keys = seasons[2003].tournament.rankings.keys()\n",
    "for year in range(2004, 2022):\n",
    "    if year != 2020:\n",
    "        keys = keys & seasons[year].tournament.rankings.keys()\n",
    "keys"
   ]
  },
  {
   "cell_type": "code",
   "execution_count": 410,
   "metadata": {},
   "outputs": [
    {
     "data": {
      "text/plain": [
       "{2}"
      ]
     },
     "execution_count": 410,
     "metadata": {},
     "output_type": "execute_result"
    }
   ],
   "source": [
    "{1, 2} & {2, 3}"
   ]
  },
  {
   "cell_type": "code",
   "execution_count": 481,
   "metadata": {},
   "outputs": [
    {
     "data": {
      "text/plain": [
       "351"
      ]
     },
     "execution_count": 481,
     "metadata": {},
     "output_type": "execute_result"
    }
   ],
   "source": [
    "len(seasons[2016].tournament.rankings[\"POM\"])"
   ]
  },
  {
   "cell_type": "code",
   "execution_count": null,
   "metadata": {},
   "outputs": [],
   "source": []
  }
 ],
 "metadata": {
  "kernelspec": {
   "display_name": "Python 3",
   "language": "python",
   "name": "python3"
  },
  "language_info": {
   "codemirror_mode": {
    "name": "ipython",
    "version": 3
   },
   "file_extension": ".py",
   "mimetype": "text/x-python",
   "name": "python",
   "nbconvert_exporter": "python",
   "pygments_lexer": "ipython3",
   "version": "3.8.5"
  }
 },
 "nbformat": 4,
 "nbformat_minor": 4
}
