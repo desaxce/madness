{
 "cells": [
  {
   "cell_type": "code",
   "execution_count": 334,
   "metadata": {
    "jupyter": {
     "source_hidden": true
    }
   },
   "outputs": [],
   "source": [
    "# Add module import path to system path.\n",
    "import os\n",
    "import sys\n",
    "module_path = os.path.abspath(os.path.join('..'))\n",
    "if module_path not in sys.path:\n",
    "    sys.path.append(module_path)\n",
    "\n",
    "# Hot-loading modules before executing code: allows us to write code while testing it in this notebook.\n",
    "%reload_ext autoreload\n",
    "%autoreload 2"
   ]
  },
  {
   "cell_type": "code",
   "execution_count": 335,
   "metadata": {
    "jupyter": {
     "source_hidden": true
    }
   },
   "outputs": [],
   "source": [
    "import logging\n",
    "\n",
    "# Logging strategy for this notebook.\n",
    "root = logging.getLogger()\n",
    "root.setLevel(logging.INFO)\n",
    "\n",
    "if not root.hasHandlers():\n",
    "    handler = logging.StreamHandler(sys.stdout)\n",
    "    handler.setLevel(logging.INFO)\n",
    "\n",
    "    formatter = logging.Formatter('%(asctime)s - %(name)s - %(levelname)s - %(message)s')\n",
    "    handler.setFormatter(formatter)\n",
    "\n",
    "    root.addHandler(handler)"
   ]
  },
  {
   "cell_type": "code",
   "execution_count": 373,
   "metadata": {},
   "outputs": [
    {
     "name": "stdout",
     "output_type": "stream",
     "text": [
      "2022-03-17 10:12:36,985 - parser - INFO - Column names are TeamID, TeamName, FirstD1Season, LastD1Season\n",
      "2022-03-17 10:12:36,986 - parser - INFO - Processed 372 teams.\n",
      "2022-03-17 10:12:36,987 - parser - INFO - Column names are Season, DayNum, WTeamID, WScore, LTeamID, LScore, WLoc, NumOT\n",
      "2022-03-17 10:12:37,788 - parser - INFO - Processed 176080 games.\n",
      "2022-03-17 10:12:37,789 - parser - INFO - Column names are Season, DayNum, WTeamID, WScore, LTeamID, LScore, WLoc, NumOT\n",
      "2022-03-17 10:12:37,798 - parser - INFO - Processed 2317 games.\n",
      "2022-03-17 10:12:37,800 - parser - INFO - Column names are Season, Seed, TeamID\n",
      "2022-03-17 10:12:37,805 - parser - INFO - Processed 2422 seeds.\n",
      "2022-03-17 10:12:37,806 - parser - INFO - Column names are Season, RankingDayNum, SystemName, TeamID, OrdinalRank\n",
      "2022-03-17 10:12:42,898 - parser - INFO - Processed 4603637 ranking rows.\n",
      "2022-03-17 10:12:42,899 - parser - INFO - Column names are Season, DayZero, RegionW, RegionX, RegionY, RegionZ\n",
      "2022-03-17 10:12:43,120 - parser - INFO - Processed 38 seasons.\n"
     ]
    }
   ],
   "source": [
    "from parser import Parser\n",
    "from span import Span\n",
    "\n",
    "parser = Parser(\"M\")\n",
    "seasons, teams = parser.parse()"
   ]
  },
  {
   "cell_type": "code",
   "execution_count": 337,
   "metadata": {
    "jupyter": {
     "source_hidden": true
    }
   },
   "outputs": [
    {
     "data": {
      "application/vnd.jupyter.widget-view+json": {
       "model_id": "77ee616243504ea789c995a1df1f6a7f",
       "version_major": 2,
       "version_minor": 0
      },
      "text/plain": [
       "Dropdown(description='Select algo:', index=2, layout=Layout(width='310px'), options=(('Gradient Boosting Class…"
      ]
     },
     "metadata": {},
     "output_type": "display_data"
    },
    {
     "data": {
      "application/vnd.jupyter.widget-view+json": {
       "model_id": "096e1b3daf374dc6937e27d9fd88bcdc",
       "version_major": 2,
       "version_minor": 0
      },
      "text/plain": [
       "Dropdown(description='Train start:', layout=Layout(width='155px'), options=(1985, 1986, 1987, 1988, 1989, 1990…"
      ]
     },
     "metadata": {},
     "output_type": "display_data"
    },
    {
     "data": {
      "application/vnd.jupyter.widget-view+json": {
       "model_id": "976003d42d91492180bebf89f76b4c1b",
       "version_major": 2,
       "version_minor": 0
      },
      "text/plain": [
       "Dropdown(description='Train end:', index=29, layout=Layout(width='155px'), options=(1986, 1987, 1988, 1989, 19…"
      ]
     },
     "metadata": {},
     "output_type": "display_data"
    },
    {
     "data": {
      "application/vnd.jupyter.widget-view+json": {
       "model_id": "e8add55240a7446cad1f91cbbf4ccfe0",
       "version_major": 2,
       "version_minor": 0
      },
      "text/plain": [
       "Dropdown(description='Test start:', index=31, layout=Layout(width='155px'), options=(1985, 1986, 1987, 1988, 1…"
      ]
     },
     "metadata": {},
     "output_type": "display_data"
    },
    {
     "data": {
      "application/vnd.jupyter.widget-view+json": {
       "model_id": "d6e310efc7464dacb12b5eefd42302eb",
       "version_major": 2,
       "version_minor": 0
      },
      "text/plain": [
       "Dropdown(description='Test end:', index=4, layout=Layout(width='155px'), options=(2017, 2018, 2019, 2020, 2021…"
      ]
     },
     "metadata": {},
     "output_type": "display_data"
    }
   ],
   "source": [
    "import ipywidgets as widgets\n",
    "from ipywidgets import Layout\n",
    "from IPython.display import display\n",
    "\n",
    "year_dd_layout=Layout(width= '155px')\n",
    "\n",
    "algorithm_dd = widgets.Dropdown(options = [(\"Gradient Boosting Classifier\", \"GB\"), (\"Logistic Regression\", \"LR\"), (\"Multi-Layer Perceptron Classifier\", \"MLP\")], value = \"MLP\", \n",
    "                                description = \"Select algo:\", \n",
    "                                layout=Layout(width='310px'))\n",
    "train_start_dd = widgets.Dropdown(options = seasons.keys(), description = \"Train start:\", value = 1985,\n",
    "                                  layout = year_dd_layout)\n",
    "train_end_dd = widgets.Dropdown(options = [year for year in seasons.keys() if year > train_start_dd.value], description = \"Train end:\", value = 2015,\n",
    "                                layout = year_dd_layout)\n",
    "\n",
    "test_start_dd = widgets.Dropdown(options = seasons.keys(), description = \"Test start:\", value = 2016,\n",
    "                                 layout = year_dd_layout)\n",
    "test_end_dd = widgets.Dropdown(options = [year for year in seasons.keys() if year > test_start_dd.value], description = \"Test end:\", value = 2021,\n",
    "                               layout = year_dd_layout)\n",
    "\n",
    "\n",
    "display(algorithm_dd)\n",
    "display(train_start_dd)\n",
    "display(train_end_dd)\n",
    "display(test_start_dd)\n",
    "display(test_end_dd)\n"
   ]
  },
  {
   "cell_type": "code",
   "execution_count": 374,
   "metadata": {},
   "outputs": [],
   "source": [
    "train_span, test_span = Span.create_spans(seasons, \n",
    "                                          train_start_dd.value, train_end_dd.value, \n",
    "                                          test_start_dd.value, test_end_dd.value, \n",
    "                                          algorithm_dd.value)\n",
    "\n",
    "# 50/50 predictions\n",
    "span_predictions = test_span.predict()\n",
    "\n",
    "# scores = Span.score(span_predictions)\n",
    "# assert scores['Average'] == 0.6931471805599453, f\"50/50 classifier should yield a 0.69314 score, but yielded {scores['Average']}\""
   ]
  },
  {
   "cell_type": "code",
   "execution_count": 375,
   "metadata": {},
   "outputs": [],
   "source": [
    "def get_span_predictions(max_iter):\n",
    "    classifier = train_span.train(max_iter)\n",
    "    classifiers = test_span.build_seasons_classifiers_map(classifier)\n",
    "    span_predictions = test_span.predict(classifiers)\n",
    "    return span_predictions\n",
    "\n",
    "def get_scores(span_predictions):\n",
    "    scores = Span.score(span_predictions)\n",
    "    return scores\n",
    "\n",
    "def get_average_score(max_iter):\n",
    "    return get_scores(get_span_predictions(max_iter))['Average']\n",
    "\n",
    "span_predictions = get_span_predictions(50000)\n",
    "\n",
    "\n",
    "# get_scores(span_predictions)"
   ]
  },
  {
   "cell_type": "code",
   "execution_count": 290,
   "metadata": {},
   "outputs": [
    {
     "name": "stdout",
     "output_type": "stream",
     "text": [
      "<season.Season object at 0x7fb679ba0a30>\n",
      "<season.Season object at 0x7fb679ba0b80>\n",
      "<season.Season object at 0x7fb679ba0cd0>\n",
      "<season.Season object at 0x7fb679ba0e20>\n",
      "<season.Season object at 0x7fb679ba0f70>\n",
      "<season.Season object at 0x7fb679be5100>\n",
      "<season.Season object at 0x7fb679be5250>\n",
      "<season.Season object at 0x7fb679be53a0>\n",
      "<season.Season object at 0x7fb679be54f0>\n",
      "<season.Season object at 0x7fb679be5640>\n",
      "<season.Season object at 0x7fb679be5790>\n",
      "<season.Season object at 0x7fb679be58e0>\n",
      "<season.Season object at 0x7fb679be5a30>\n",
      "<season.Season object at 0x7fb679be5bb0>\n",
      "<season.Season object at 0x7fb679be5d90>\n",
      "<season.Season object at 0x7fb679be5f70>\n",
      "<season.Season object at 0x7fb6bc150190>\n",
      "[]\n",
      "Error\n",
      "set()\n"
     ]
    }
   ],
   "source": [
    "systems = set(seasons[2003].tournament.rankings.keys())\n",
    "\n",
    "for i in range(2003, 2022):\n",
    "    s = seasons[i]\n",
    "    print(s)\n",
    "    if not s or s.tournament.year == 2020:\n",
    "        print (\"Error\")\n",
    "        continue\n",
    "    else:\n",
    "        systems = systems & s.tournament.rankings.keys()\n",
    "\n",
    "print(systems)"
   ]
  },
  {
   "cell_type": "code",
   "execution_count": 296,
   "metadata": {},
   "outputs": [
    {
     "data": {
      "text/plain": [
       "dict_keys(['7OT', 'ACU', 'AP', 'ARG', 'BBT', 'BIH', 'BLS', 'BOB', 'BOW', 'BUR', 'BWE', 'CNG', 'COL', 'CPA', 'CPR', 'CRO', 'D1A', 'DAV', 'DC', 'DCI', 'DES', 'DII', 'DOK', 'DOL', 'EBP', 'FAS', 'FSH', 'HAS', 'KPI', 'KPK', 'KRA', 'LMC', 'LOG', 'MAS', 'MCL', 'MOR', 'MSX', 'NOL', 'PGH', 'PIG', 'POM', 'REW', 'RPI', 'RT', 'RTH', 'RTP', 'RTR', 'SAG', 'SEL', 'SFX', 'SP', 'SPR', 'SPW', 'STH', 'TPR', 'TRK', 'TRP', 'TW', 'USA', 'WIL', 'WLK', 'WOB', 'WOL'])"
      ]
     },
     "execution_count": 296,
     "metadata": {},
     "output_type": "execute_result"
    }
   ],
   "source": [
    "seasons[2016].tournament.rankings.keys()"
   ]
  },
  {
   "cell_type": "code",
   "execution_count": 372,
   "metadata": {},
   "outputs": [],
   "source": [
    "lines = [\"ID,Pred\"]\n",
    "\n",
    "for year in range(2022, 2023):\n",
    "    if year != 2020:\n",
    "        for prediction in span_predictions[year]:\n",
    "            lines.append(f\"{year}_{prediction.team_1_id}_{prediction.team_2_id},{prediction.win_p}\")\n",
    "            \n",
    "with open('submission_final_2_w.csv', 'w') as f:\n",
    "    for line in lines:\n",
    "        f.write(line)\n",
    "        f.write('\\n')\n",
    "\n"
   ]
  },
  {
   "cell_type": "code",
   "execution_count": 270,
   "metadata": {},
   "outputs": [
    {
     "ename": "AttributeError",
     "evalue": "'list' object has no attribute 'tournament'",
     "output_type": "error",
     "traceback": [
      "\u001b[0;31m---------------------------------------------------------------------------\u001b[0m",
      "\u001b[0;31mAttributeError\u001b[0m                            Traceback (most recent call last)",
      "\u001b[0;32m<ipython-input-270-02a0d8b38bb3>\u001b[0m in \u001b[0;36m<module>\u001b[0;34m\u001b[0m\n\u001b[1;32m      4\u001b[0m     \u001b[0ms\u001b[0m \u001b[0;34m=\u001b[0m \u001b[0mseasons\u001b[0m\u001b[0;34m[\u001b[0m\u001b[0mi\u001b[0m\u001b[0;34m]\u001b[0m\u001b[0;34m\u001b[0m\u001b[0;34m\u001b[0m\u001b[0m\n\u001b[1;32m      5\u001b[0m     \u001b[0;32mif\u001b[0m \u001b[0ms\u001b[0m \u001b[0;34m!=\u001b[0m \u001b[0;36m2020\u001b[0m\u001b[0;34m:\u001b[0m\u001b[0;34m\u001b[0m\u001b[0;34m\u001b[0m\u001b[0m\n\u001b[0;32m----> 6\u001b[0;31m         \u001b[0msystems\u001b[0m \u001b[0;34m=\u001b[0m \u001b[0msystems\u001b[0m \u001b[0;34m&\u001b[0m \u001b[0ms\u001b[0m\u001b[0;34m.\u001b[0m\u001b[0mtournament\u001b[0m\u001b[0;34m.\u001b[0m\u001b[0mrankings\u001b[0m\u001b[0;34m.\u001b[0m\u001b[0mkeys\u001b[0m\u001b[0;34m(\u001b[0m\u001b[0;34m)\u001b[0m\u001b[0;34m\u001b[0m\u001b[0;34m\u001b[0m\u001b[0m\n\u001b[0m\u001b[1;32m      7\u001b[0m \u001b[0;34m\u001b[0m\u001b[0m\n\u001b[1;32m      8\u001b[0m \u001b[0mprint\u001b[0m\u001b[0;34m(\u001b[0m\u001b[0msystems\u001b[0m\u001b[0;34m)\u001b[0m\u001b[0;34m\u001b[0m\u001b[0;34m\u001b[0m\u001b[0m\n",
      "\u001b[0;31mAttributeError\u001b[0m: 'list' object has no attribute 'tournament'"
     ]
    }
   ],
   "source": []
  },
  {
   "cell_type": "code",
   "execution_count": 183,
   "metadata": {},
   "outputs": [],
   "source": [
    "def get_seeds_for_region(region):\n",
    "    # Removing Appalachian St, \n",
    "    s = [seed for seed in seeds.values() if seed.region == region and seed.team_id != 1461]\n",
    "    s.sort(key=lambda x: x.position)\n",
    "    return s"
   ]
  },
  {
   "cell_type": "code",
   "execution_count": 194,
   "metadata": {},
   "outputs": [],
   "source": [
    "seeds_w = get_seeds_for_region(\"W\")\n",
    "seeds_x = get_seeds_for_region(\"X\")\n",
    "seeds_y = get_seeds_for_region(\"Y\")\n",
    "seeds_z = get_seeds_for_region(\"Z\")\n",
    "\n",
    "def get_match_up_id(team_1_id, team_2_id):\n",
    "    s, t = team_1_id, team_2_id\n",
    "    if s > t:\n",
    "        s, t = t, s\n",
    "    return f\"{s}_{t}\"\n",
    "\n",
    "def get_match_up_name(team_1_id, team_2_id):\n",
    "    s, t = team_1_id, team_2_id\n",
    "    if s > t:\n",
    "        s, t = t, s\n",
    "    return f\"{name(s)} vs. {name(t)}\""
   ]
  },
  {
   "cell_type": "code",
   "execution_count": 209,
   "metadata": {},
   "outputs": [
    {
     "name": "stdout",
     "output_type": "stream",
     "text": [
      "Baylor vs. Norfolk St --> Baylor\n",
      "Kentucky vs. St Peter's --> Kentucky\n",
      "Purdue vs. Yale --> Purdue\n",
      "Akron vs. UCLA --> UCLA\n",
      "Indiana vs. St Mary's CA --> St Mary's CA\n",
      "Texas vs. Virginia Tech --> Texas\n",
      "Murray St vs. San Francisco --> Murray St\n",
      "Marquette vs. North Carolina --> North Carolina\n"
     ]
    }
   ],
   "source": [
    "def name(team_id):\n",
    "    return seasons[2022].teams[team_id].name\n",
    "\n",
    "predictions = span_predictions[2022]\n",
    "d = {}\n",
    "for p in predictions:\n",
    "    d[f\"{p.team_1_id}_{p.team_2_id}\"] = p.win_p\n",
    "\n",
    "import random\n",
    "\n",
    "seeds = seeds_w\n",
    "n = 15\n",
    "for i in range(8):\n",
    "    team_id_i = seeds[i].team_id\n",
    "    team_id_n_i = seeds[n-i].team_id\n",
    "    match_up_id = get_match_up_id(team_id_i, team_id_n_i)\n",
    "    \n",
    "    winner = name(team_id_i)\n",
    "    if random.uniform(0, 1) > d[match_up_id]:\n",
    "        winner = name(team_id_n_i)\n",
    "    print(f\"{get_match_up_name(team_id_i, team_id_n_i)} --> {winner}\")\n",
    "\n"
   ]
  },
  {
   "cell_type": "code",
   "execution_count": 193,
   "metadata": {},
   "outputs": [
    {
     "name": "stdout",
     "output_type": "stream",
     "text": [
      "1461\n"
     ]
    }
   ],
   "source": [
    "for k, t in seasons[2022].teams.items():\n",
    "    if 'Wyoming' in t.name:\n",
    "        print (t.id)"
   ]
  },
  {
   "cell_type": "code",
   "execution_count": 181,
   "metadata": {},
   "outputs": [
    {
     "data": {
      "text/plain": [
       "[(1124, 'Baylor'),\n",
       " (1246, 'Kentucky'),\n",
       " (1345, 'Purdue'),\n",
       " (1417, 'UCLA'),\n",
       " (1388, \"St Mary's CA\"),\n",
       " (1400, 'Texas'),\n",
       " (1293, 'Murray St'),\n",
       " (1314, 'North Carolina'),\n",
       " (1266, 'Marquette'),\n",
       " (1362, 'San Francisco'),\n",
       " (1439, 'Virginia Tech'),\n",
       " (1231, 'Indiana'),\n",
       " (1461, 'Wyoming'),\n",
       " (1103, 'Akron'),\n",
       " (1463, 'Yale'),\n",
       " (1389, \"St Peter's\"),\n",
       " (1313, 'Norfolk St')]"
      ]
     },
     "execution_count": 181,
     "metadata": {},
     "output_type": "execute_result"
    }
   ],
   "source": [
    "[(s.team_id, name(s.team_id)) for s in seeds_w]"
   ]
  },
  {
   "cell_type": "code",
   "execution_count": 101,
   "metadata": {},
   "outputs": [
    {
     "data": {
      "text/plain": [
       "17"
      ]
     },
     "execution_count": 101,
     "metadata": {},
     "output_type": "execute_result"
    }
   ],
   "source": [
    "len(teams_z)"
   ]
  },
  {
   "cell_type": "code",
   "execution_count": 102,
   "metadata": {},
   "outputs": [
    {
     "data": {
      "text/plain": [
       "68"
      ]
     },
     "execution_count": 102,
     "metadata": {},
     "output_type": "execute_result"
    }
   ],
   "source": [
    "17*4"
   ]
  },
  {
   "cell_type": "code",
   "execution_count": 104,
   "metadata": {},
   "outputs": [
    {
     "data": {
      "text/plain": [
       "68"
      ]
     },
     "execution_count": 104,
     "metadata": {},
     "output_type": "execute_result"
    }
   ],
   "source": [
    "len(seeds.keys())"
   ]
  },
  {
   "cell_type": "code",
   "execution_count": null,
   "metadata": {},
   "outputs": [],
   "source": []
  }
 ],
 "metadata": {
  "kernelspec": {
   "display_name": "Python 3",
   "language": "python",
   "name": "python3"
  },
  "language_info": {
   "codemirror_mode": {
    "name": "ipython",
    "version": 3
   },
   "file_extension": ".py",
   "mimetype": "text/x-python",
   "name": "python",
   "nbconvert_exporter": "python",
   "pygments_lexer": "ipython3",
   "version": "3.8.5"
  }
 },
 "nbformat": 4,
 "nbformat_minor": 4
}
